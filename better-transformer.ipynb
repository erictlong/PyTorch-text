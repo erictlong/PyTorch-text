{
 "cells": [
  {
   "cell_type": "markdown",
   "metadata": {},
   "source": [
    "# Fast Transformer Interence with Better Transformer\n",
    "\n",
    "Shows how to use better transformer for production inference with torchtext. Better Transformer is a production read fastpath to accelerate deployment of transformer models with high performance on cpu and gpu. The fastpath feature works transparently for models based either directly on pytorch core or with torchtext.\n",
    "\n",
    "Better transformer offers two types of acceleration:\n",
    "- native multihead attention (mha) implementation for cpu and gpu to improve overall executino efficiency\n",
    "- exploiting sparsity in nlp interence. Because of variable input length, input tokens may contain a large number of padding tokens for which proceassing may be skipped, delivering significant speedups\n",
    "\n",
    "source: https://pytorch.org/tutorials/beginner/bettertransformer_tutorial.html"
   ]
  },
  {
   "cell_type": "markdown",
   "metadata": {},
   "source": [
    "# Setup\n",
    "\n",
    "We download the xlmr model from the predifined torchtext models by follwing the instruction in torchtext.models. "
   ]
  },
  {
   "cell_type": "code",
   "execution_count": 1,
   "metadata": {},
   "outputs": [
    {
     "name": "stdout",
     "output_type": "stream",
     "text": [
      "torch version:2.3.1\n"
     ]
    }
   ],
   "source": [
    "import torch\n",
    "import torch.nn as nn\n",
    "\n",
    "print(f\"torch version:{torch.__version__}\")"
   ]
  },
  {
   "cell_type": "code",
   "execution_count": 3,
   "metadata": {},
   "outputs": [
    {
     "name": "stdout",
     "output_type": "stream",
     "text": [
      "torch cuda available: False\n"
     ]
    }
   ],
   "source": [
    "DEVICE = torch.device(\"cuda\") if torch.cuda.is_available() else torch.device(\"cpu\")\n",
    "\n",
    "print(f\"torch cuda available: {torch.cuda.is_available()}\")"
   ]
  },
  {
   "cell_type": "code",
   "execution_count": 4,
   "metadata": {},
   "outputs": [],
   "source": [
    "import torch, torchtext\n",
    "from torchtext.models import RobertaClassificationHead\n",
    "from torchtext.functional import to_tensor"
   ]
  },
  {
   "cell_type": "code",
   "execution_count": 5,
   "metadata": {},
   "outputs": [
    {
     "name": "stderr",
     "output_type": "stream",
     "text": [
      "Downloading: \"https://download.pytorch.org/models/text/xlmr.large.encoder.pt\" to /Users/eric/.cache/torch/hub/checkpoints/xlmr.large.encoder.pt\n",
      "100%|██████████| 2.08G/2.08G [02:45<00:00, 13.5MB/s]\n",
      "100%|██████████| 5.07M/5.07M [00:00<00:00, 11.6MB/s]\n",
      "Downloading: \"https://download.pytorch.org/models/text/xlmr.vocab.pt\" to /Users/eric/.cache/torch/hub/checkpoints/xlmr.vocab.pt\n",
      "100%|██████████| 4.85M/4.85M [00:00<00:00, 14.9MB/s]\n"
     ]
    }
   ],
   "source": [
    "xlmr_large = torchtext.models.XLMR_LARGE_ENCODER\n",
    "classifier_head = torchtext.models.RobertaClassificationHead(num_classes=2, input_dim= 1024)\n",
    "model = xlmr_large.get_model(head=classifier_head)\n",
    "transform = xlmr_large.transform()"
   ]
  },
  {
   "cell_type": "markdown",
   "metadata": {},
   "source": [
    "### Dataset Setup\n",
    "\n",
    "We setup two types of inputs\n",
    "- a small input batch \n",
    "- larget input batch with sparsity"
   ]
  },
  {
   "cell_type": "code",
   "execution_count": 6,
   "metadata": {},
   "outputs": [],
   "source": [
    "small_input_batch = [\n",
    "               \"Hello world\",\n",
    "               \"How are you!\"\n",
    "]\n",
    "big_input_batch = [\n",
    "               \"Hello world\",\n",
    "               \"How are you!\",\n",
    "               \"\"\"`Well, Prince, so Genoa and Lucca are now just family estates of the\n",
    "Buonapartes. But I warn you, if you don't tell me that this means war,\n",
    "if you still try to defend the infamies and horrors perpetrated by\n",
    "that Antichrist- I really believe he is Antichrist- I will have\n",
    "nothing more to do with you and you are no longer my friend, no longer\n",
    "my 'faithful slave,' as you call yourself! But how do you do? I see\n",
    "I have frightened you- sit down and tell me all the news.`\n",
    "\n",
    "It was in July, 1805, and the speaker was the well-known Anna\n",
    "Pavlovna Scherer, maid of honor and favorite of the Empress Marya\n",
    "Fedorovna. With these words she greeted Prince Vasili Kuragin, a man\n",
    "of high rank and importance, who was the first to arrive at her\n",
    "reception. Anna Pavlovna had had a cough for some days. She was, as\n",
    "she said, suffering from la grippe; grippe being then a new word in\n",
    "St. Petersburg, used only by the elite.\"\"\"\n",
    "]"
   ]
  },
  {
   "cell_type": "markdown",
   "metadata": {},
   "source": [
    "Next we select either the small or large input batch, preprocess the inputs and test the model"
   ]
  },
  {
   "cell_type": "code",
   "execution_count": 7,
   "metadata": {},
   "outputs": [
    {
     "data": {
      "text/plain": [
       "torch.Size([3, 2])"
      ]
     },
     "execution_count": 7,
     "metadata": {},
     "output_type": "execute_result"
    }
   ],
   "source": [
    "input_batch = big_input_batch\n",
    "\n",
    "model_input = to_tensor(transform(input_batch), padding_value=1)\n",
    "output = model(model_input)\n",
    "output.shape"
   ]
  },
  {
   "cell_type": "markdown",
   "metadata": {},
   "source": [
    "Finally we set the benchmark interation count"
   ]
  },
  {
   "cell_type": "code",
   "execution_count": 8,
   "metadata": {},
   "outputs": [],
   "source": [
    "INTERATION = 10"
   ]
  },
  {
   "cell_type": "markdown",
   "metadata": {},
   "source": [
    "## Execution\n",
    "\n",
    "We run the model on cpu, and collect profile information\n",
    "- the first run uses traditional (\"slow path\") execution\n",
    "- the second run bt fastpath execution by putting the model in inference mode using model.eval() and disables graient collection with torch.no_grad()\n",
    "\n",
    "We can see an improvement (whose magnitude will depend on the cput model) when the model is executing on cpu. Notice that the fastpath profile shows most of the execution time in the native transformerencoderlayer implementation "
   ]
  },
  {
   "cell_type": "markdown",
   "metadata": {},
   "source": [
    "### Slow path"
   ]
  },
  {
   "cell_type": "code",
   "execution_count": 9,
   "metadata": {},
   "outputs": [
    {
     "name": "stderr",
     "output_type": "stream",
     "text": [
      "STAGE:2024-08-05 06:34:12 20207:5276069 ActivityProfilerController.cpp:314] Completed Stage: Warm Up\n",
      "STAGE:2024-08-05 06:34:41 20207:5276069 ActivityProfilerController.cpp:320] Completed Stage: Collection\n",
      "STAGE:2024-08-05 06:34:41 20207:5276069 ActivityProfilerController.cpp:324] Completed Stage: Post Processing\n"
     ]
    },
    {
     "name": "stdout",
     "output_type": "stream",
     "text": [
      "--------------------------------------------  ------------  ------------  ------------  ------------  ------------  ------------  \n",
      "                                        Name    Self CPU %      Self CPU   CPU total %     CPU total  CPU time avg    # of Calls  \n",
      "--------------------------------------------  ------------  ------------  ------------  ------------  ------------  ------------  \n",
      "                                    aten::eq         0.00%     205.000us         0.00%     205.000us     205.000us             1  \n",
      "                             aten::embedding         0.00%      96.000us         0.01%       1.801ms       1.801ms             1  \n",
      "                               aten::reshape         0.00%       7.000us         0.00%      14.000us      14.000us             1  \n",
      "                                  aten::view         0.00%       7.000us         0.00%       7.000us       7.000us             1  \n",
      "                          aten::index_select         0.01%       1.666ms         0.01%       1.687ms       1.687ms             1  \n",
      "                                 aten::empty         0.00%       5.000us         0.00%       5.000us       5.000us             1  \n",
      "                                aten::select         0.00%      15.000us         0.00%      16.000us      16.000us             1  \n",
      "                            aten::as_strided         0.00%       1.000us         0.00%       1.000us       1.000us             1  \n",
      "                                aten::select         0.00%       0.000us         0.00%       0.000us       0.000us             1  \n",
      "                            aten::as_strided         0.00%       0.000us         0.00%       0.000us       0.000us             1  \n",
      "                                  aten::view         0.00%       4.000us         0.00%       4.000us       4.000us             1  \n",
      "                                    aten::ne         0.00%      24.000us         0.00%      24.000us      24.000us             1  \n",
      "                                    aten::to         0.00%       6.000us         0.00%     209.000us     209.000us             1  \n",
      "                              aten::_to_copy         0.00%     185.000us         0.00%     203.000us     203.000us             1  \n",
      "                         aten::empty_strided         0.00%       4.000us         0.00%       4.000us       4.000us             1  \n",
      "                                 aten::copy_         0.00%      14.000us         0.00%      14.000us      14.000us             1  \n",
      "                                aten::cumsum         0.00%      29.000us         0.00%      29.000us      29.000us             1  \n",
      "                                    aten::to         0.00%       0.000us         0.00%       0.000us       0.000us             1  \n",
      "                                   aten::mul         0.00%      13.000us         0.00%      13.000us      13.000us             1  \n",
      "                                   aten::add         0.00%       7.000us         0.00%       7.000us       7.000us             1  \n",
      "                             aten::embedding         0.00%      25.000us         0.00%     984.000us     984.000us             1  \n",
      "                               aten::reshape         0.00%       1.000us         0.00%       1.000us       1.000us             1  \n",
      "                                  aten::view         0.00%       1.000us         0.00%       1.000us       1.000us             1  \n",
      "                          aten::index_select         0.00%     950.000us         0.00%     954.000us     954.000us             1  \n",
      "                                 aten::empty         0.00%       0.000us         0.00%       0.000us       0.000us             1  \n",
      "                                aten::select         0.00%       4.000us         0.00%       4.000us       4.000us             1  \n",
      "                            aten::as_strided         0.00%       0.000us         0.00%       0.000us       0.000us             1  \n",
      "                                aten::select         0.00%       0.000us         0.00%       0.000us       0.000us             1  \n",
      "                            aten::as_strided         0.00%       0.000us         0.00%       0.000us       0.000us             1  \n",
      "                                  aten::view         0.00%       3.000us         0.00%       3.000us       3.000us             1  \n",
      "                                   aten::add         0.00%     668.000us         0.00%     668.000us     668.000us             1  \n",
      "                            aten::layer_norm         0.00%     572.000us         0.01%       1.710ms       1.710ms             1  \n",
      "                     aten::native_layer_norm         0.00%       1.117ms         0.00%       1.138ms       1.138ms             1  \n",
      "                                 aten::empty         0.00%      16.000us         0.00%      16.000us      16.000us             1  \n",
      "                                 aten::empty         0.00%       0.000us         0.00%       0.000us       0.000us             1  \n",
      "                                 aten::empty         0.00%       0.000us         0.00%       0.000us       0.000us             1  \n",
      "                                  aten::view         0.00%       4.000us         0.00%       4.000us       4.000us             1  \n",
      "                                  aten::view         0.00%       1.000us         0.00%       1.000us       1.000us             1  \n",
      "                               aten::dropout         0.00%     499.000us         0.02%       5.720ms       5.720ms             1  \n",
      "                            aten::empty_like         0.00%       2.000us         0.00%       3.000us       3.000us             1  \n",
      "                                 aten::empty         0.00%       1.000us         0.00%       1.000us       1.000us             1  \n",
      "                            aten::bernoulli_         0.01%       3.855ms         0.01%       3.855ms       3.855ms             1  \n",
      "                                  aten::div_         0.00%     235.000us         0.00%     248.000us     248.000us             1  \n",
      "                                    aten::to         0.00%       1.000us         0.00%      13.000us      13.000us             1  \n",
      "                              aten::_to_copy         0.00%       4.000us         0.00%      12.000us      12.000us             1  \n",
      "                         aten::empty_strided         0.00%       2.000us         0.00%       2.000us       2.000us             1  \n",
      "                                 aten::copy_         0.00%       6.000us         0.00%       6.000us       6.000us             1  \n",
      "                                   aten::mul         0.00%       1.115ms         0.00%       1.115ms       1.115ms             1  \n",
      "                            aten::zeros_like         0.00%     666.000us         0.00%     676.000us     676.000us             1  \n",
      "                            aten::empty_like         0.00%       3.000us         0.00%       6.000us       6.000us             1  \n",
      "                         aten::empty_strided         0.00%       3.000us         0.00%       3.000us       3.000us             1  \n",
      "                                 aten::zero_         0.00%       4.000us         0.00%       4.000us       4.000us             1  \n",
      "                          aten::masked_fill_         0.00%      16.000us         0.00%      16.000us      16.000us             1  \n",
      "                             aten::transpose         0.00%      16.000us         0.00%      20.000us      20.000us             1  \n",
      "                            aten::as_strided         0.00%       4.000us         0.00%       4.000us       4.000us             1  \n",
      "                                aten::linear         0.00%      36.000us         0.13%      34.060ms      34.060ms             1  \n",
      "                                     aten::t         0.00%      49.000us         0.00%      50.000us      50.000us             1  \n",
      "                             aten::transpose         0.00%       1.000us         0.00%       1.000us       1.000us             1  \n",
      "                            aten::as_strided         0.00%       0.000us         0.00%       0.000us       0.000us             1  \n",
      "                                aten::matmul         0.00%      60.000us         0.12%      33.504ms      33.504ms             1  \n",
      "                               aten::reshape         0.00%      35.000us         0.02%       4.310ms       4.310ms             1  \n",
      "                                 aten::clone         0.00%      12.000us         0.02%       4.265ms       4.265ms             1  \n",
      "                            aten::empty_like         0.00%      72.000us         0.00%      78.000us      78.000us             1  \n",
      "                                 aten::empty         0.00%       6.000us         0.00%       6.000us       6.000us             1  \n",
      "                                 aten::copy_         0.02%       4.175ms         0.02%       4.175ms       4.175ms             1  \n",
      "                          aten::_unsafe_view         0.00%      10.000us         0.00%      10.000us      10.000us             1  \n",
      "                                    aten::mm         0.11%      29.119ms         0.11%      29.119ms      29.119ms             1  \n",
      "                          aten::resolve_conj         0.00%       0.000us         0.00%       0.000us       0.000us             1  \n",
      "                          aten::resolve_conj         0.00%       0.000us         0.00%       0.000us       0.000us             1  \n",
      "                          aten::_unsafe_view         0.00%      15.000us         0.00%      15.000us      15.000us             1  \n",
      "                                  aten::add_         0.00%     470.000us         0.00%     470.000us     470.000us             1  \n",
      "                             aten::unflatten         0.00%      10.000us         0.00%      29.000us      29.000us             1  \n",
      "                                  aten::view         0.00%      19.000us         0.00%      19.000us      19.000us             1  \n",
      "                             aten::unsqueeze         0.00%      27.000us         0.00%      29.000us      29.000us             1  \n",
      "                            aten::as_strided         0.00%       2.000us         0.00%       2.000us       2.000us             1  \n",
      "                             aten::transpose         0.00%       7.000us         0.00%       9.000us       9.000us             1  \n",
      "                            aten::as_strided         0.00%       2.000us         0.00%       2.000us       2.000us             1  \n",
      "                               aten::squeeze         0.00%       7.000us         0.00%       8.000us       8.000us             1  \n",
      "                            aten::as_strided         0.00%       1.000us         0.00%       1.000us       1.000us             1  \n",
      "                            aten::contiguous         0.00%       4.000us         0.01%       1.596ms       1.596ms             1  \n",
      "                                 aten::clone         0.00%      18.000us         0.01%       1.592ms       1.592ms             1  \n",
      "                            aten::empty_like         0.00%       3.000us         0.00%      33.000us      33.000us             1  \n",
      "                                 aten::empty         0.00%      30.000us         0.00%      30.000us      30.000us             1  \n",
      "                                 aten::copy_         0.01%       1.541ms         0.01%       1.541ms       1.541ms             1  \n",
      "                                aten::select         0.00%      15.000us         0.00%      18.000us      18.000us             1  \n",
      "                            aten::as_strided         0.00%       3.000us         0.00%       3.000us       3.000us             1  \n",
      "                                aten::select         0.00%       1.000us         0.00%       1.000us       1.000us             1  \n",
      "                            aten::as_strided         0.00%       0.000us         0.00%       0.000us       0.000us             1  \n",
      "                                aten::select         0.00%       1.000us         0.00%       1.000us       1.000us             1  \n",
      "                            aten::as_strided         0.00%       0.000us         0.00%       0.000us       0.000us             1  \n",
      "                                  aten::view         0.00%       5.000us         0.00%       5.000us       5.000us             1  \n",
      "                             aten::transpose         0.00%       3.000us         0.00%       3.000us       3.000us             1  \n",
      "                            aten::as_strided         0.00%       0.000us         0.00%       0.000us       0.000us             1  \n",
      "                                  aten::view         0.00%       1.000us         0.00%       1.000us       1.000us             1  \n",
      "                             aten::transpose         0.00%       1.000us         0.00%       1.000us       1.000us             1  \n",
      "                            aten::as_strided         0.00%       0.000us         0.00%       0.000us       0.000us             1  \n",
      "                                  aten::view         0.00%       0.000us         0.00%       0.000us       0.000us             1  \n",
      "                             aten::transpose         0.00%       0.000us         0.00%       0.000us       0.000us             1  \n",
      "                            aten::as_strided         0.00%       0.000us         0.00%       0.000us       0.000us             1  \n",
      "                                  aten::view         0.00%       0.000us         0.00%       0.000us       0.000us             1  \n",
      "--------------------------------------------  ------------  ------------  ------------  ------------  ------------  ------------  \n",
      "Self CPU time total: 26.877s\n",
      "\n"
     ]
    },
    {
     "data": {
      "text/plain": [
       "RobertaModel(\n",
       "  (encoder): RobertaEncoder(\n",
       "    (transformer): TransformerEncoder(\n",
       "      (token_embedding): Embedding(250002, 1024, padding_idx=1)\n",
       "      (layers): TransformerEncoder(\n",
       "        (layers): ModuleList(\n",
       "          (0-23): 24 x TransformerEncoderLayer(\n",
       "            (self_attn): MultiheadAttention(\n",
       "              (out_proj): NonDynamicallyQuantizableLinear(in_features=1024, out_features=1024, bias=True)\n",
       "            )\n",
       "            (linear1): Linear(in_features=1024, out_features=4096, bias=True)\n",
       "            (dropout): Dropout(p=0.1, inplace=False)\n",
       "            (linear2): Linear(in_features=4096, out_features=1024, bias=True)\n",
       "            (norm1): LayerNorm((1024,), eps=1e-05, elementwise_affine=True)\n",
       "            (norm2): LayerNorm((1024,), eps=1e-05, elementwise_affine=True)\n",
       "            (dropout1): Dropout(p=0.1, inplace=False)\n",
       "            (dropout2): Dropout(p=0.1, inplace=False)\n",
       "          )\n",
       "        )\n",
       "      )\n",
       "      (positional_embedding): PositionalEmbedding(\n",
       "        (embedding): Embedding(514, 1024, padding_idx=1)\n",
       "      )\n",
       "      (embedding_layer_norm): LayerNorm((1024,), eps=1e-05, elementwise_affine=True)\n",
       "      (dropout): Dropout(p=0.1, inplace=False)\n",
       "    )\n",
       "  )\n",
       "  (head): RobertaClassificationHead(\n",
       "    (dense): Linear(in_features=1024, out_features=1024, bias=True)\n",
       "    (dropout): Dropout(p=0.1, inplace=False)\n",
       "    (out_proj): Linear(in_features=1024, out_features=2, bias=True)\n",
       "    (activation_fn): ReLU()\n",
       "  )\n",
       ")"
      ]
     },
     "execution_count": 9,
     "metadata": {},
     "output_type": "execute_result"
    }
   ],
   "source": [
    "with torch.autograd.profiler.profile(use_cuda=False) as prof:\n",
    "    for i in range(INTERATION):\n",
    "        output = model(model_input)\n",
    "print(prof)\n",
    "\n",
    "model.eval()"
   ]
  },
  {
   "cell_type": "markdown",
   "metadata": {},
   "source": [
    "### Fast path"
   ]
  },
  {
   "cell_type": "code",
   "execution_count": 10,
   "metadata": {},
   "outputs": [
    {
     "name": "stderr",
     "output_type": "stream",
     "text": [
      "STAGE:2024-08-05 06:37:09 20207:5276069 ActivityProfilerController.cpp:314] Completed Stage: Warm Up\n",
      "/Users/eric/venv-metal/lib/python3.9/site-packages/torch/nn/modules/transformer.py:408: UserWarning: The PyTorch API of nested tensors is in prototype stage and will change in the near future. (Triggered internally at /Users/runner/work/pytorch/pytorch/pytorch/aten/src/ATen/NestedTensorImpl.cpp:180.)\n",
      "  output = torch._nested_tensor_from_mask(output, src_key_padding_mask.logical_not(), mask_check=False)\n",
      "STAGE:2024-08-05 06:37:16 20207:5276069 ActivityProfilerController.cpp:320] Completed Stage: Collection\n",
      "STAGE:2024-08-05 06:37:17 20207:5276069 ActivityProfilerController.cpp:324] Completed Stage: Post Processing\n"
     ]
    },
    {
     "name": "stdout",
     "output_type": "stream",
     "text": [
      "-------------------------------------------  ------------  ------------  ------------  ------------  ------------  ------------  \n",
      "                                       Name    Self CPU %      Self CPU   CPU total %     CPU total  CPU time avg    # of Calls  \n",
      "-------------------------------------------  ------------  ------------  ------------  ------------  ------------  ------------  \n",
      "                                   aten::eq         0.00%      61.000us         0.00%      61.000us      61.000us             1  \n",
      "                            aten::embedding         0.00%      41.000us         0.06%       4.262ms       4.262ms             1  \n",
      "                              aten::reshape         0.00%      11.000us         0.00%      15.000us      15.000us             1  \n",
      "                                 aten::view         0.00%       4.000us         0.00%       4.000us       4.000us             1  \n",
      "                         aten::index_select         0.06%       4.165ms         0.06%       4.185ms       4.185ms             1  \n",
      "                                aten::empty         0.00%       1.000us         0.00%       1.000us       1.000us             1  \n",
      "                               aten::select         0.00%      16.000us         0.00%      19.000us      19.000us             1  \n",
      "                           aten::as_strided         0.00%       3.000us         0.00%       3.000us       3.000us             1  \n",
      "                               aten::select         0.00%       0.000us         0.00%       0.000us       0.000us             1  \n",
      "                           aten::as_strided         0.00%       0.000us         0.00%       0.000us       0.000us             1  \n",
      "                                 aten::view         0.00%      21.000us         0.00%      21.000us      21.000us             1  \n",
      "                                   aten::ne         0.00%      16.000us         0.00%      16.000us      16.000us             1  \n",
      "                                   aten::to         0.00%       6.000us         0.00%      29.000us      29.000us             1  \n",
      "                             aten::_to_copy         0.00%      13.000us         0.00%      23.000us      23.000us             1  \n",
      "                        aten::empty_strided         0.00%       2.000us         0.00%       2.000us       2.000us             1  \n",
      "                                aten::copy_         0.00%       8.000us         0.00%       8.000us       8.000us             1  \n",
      "                               aten::cumsum         0.00%      14.000us         0.00%      14.000us      14.000us             1  \n",
      "                                   aten::to         0.00%       0.000us         0.00%       0.000us       0.000us             1  \n",
      "                                  aten::mul         0.00%       9.000us         0.00%       9.000us       9.000us             1  \n",
      "                                  aten::add         0.00%       9.000us         0.00%       9.000us       9.000us             1  \n",
      "                            aten::embedding         0.00%      17.000us         0.04%       2.861ms       2.861ms             1  \n",
      "                              aten::reshape         0.00%       1.000us         0.00%       2.000us       2.000us             1  \n",
      "                                 aten::view         0.00%       1.000us         0.00%       1.000us       1.000us             1  \n",
      "                         aten::index_select         0.04%       2.831ms         0.04%       2.836ms       2.836ms             1  \n",
      "                                aten::empty         0.00%       1.000us         0.00%       1.000us       1.000us             1  \n",
      "                               aten::select         0.00%       4.000us         0.00%       4.000us       4.000us             1  \n",
      "                           aten::as_strided         0.00%       0.000us         0.00%       0.000us       0.000us             1  \n",
      "                               aten::select         0.00%       0.000us         0.00%       0.000us       0.000us             1  \n",
      "                           aten::as_strided         0.00%       0.000us         0.00%       0.000us       0.000us             1  \n",
      "                                 aten::view         0.00%       6.000us         0.00%       6.000us       6.000us             1  \n",
      "                                  aten::add         0.01%     593.000us         0.01%     593.000us     593.000us             1  \n",
      "                           aten::layer_norm         0.00%      16.000us         0.01%     725.000us     725.000us             1  \n",
      "                    aten::native_layer_norm         0.01%     692.000us         0.01%     709.000us     709.000us             1  \n",
      "                                aten::empty         0.00%       4.000us         0.00%       4.000us       4.000us             1  \n",
      "                                aten::empty         0.00%       1.000us         0.00%       1.000us       1.000us             1  \n",
      "                                aten::empty         0.00%       8.000us         0.00%       8.000us       8.000us             1  \n",
      "                                 aten::view         0.00%       4.000us         0.00%       4.000us       4.000us             1  \n",
      "                                 aten::view         0.00%       0.000us         0.00%       0.000us       0.000us             1  \n",
      "                              aten::dropout         0.00%       3.000us         0.00%       3.000us       3.000us             1  \n",
      "                           aten::zeros_like         0.00%       9.000us         0.00%      15.000us      15.000us             1  \n",
      "                           aten::empty_like         0.00%       2.000us         0.00%       4.000us       4.000us             1  \n",
      "                        aten::empty_strided         0.00%       2.000us         0.00%       2.000us       2.000us             1  \n",
      "                                aten::zero_         0.00%       2.000us         0.00%       2.000us       2.000us             1  \n",
      "                         aten::masked_fill_         0.00%       9.000us         0.00%       9.000us       9.000us             1  \n",
      "                          aten::logical_not         0.01%     543.000us         0.02%       1.061ms       1.061ms             1  \n",
      "                                aten::empty         0.00%       1.000us         0.00%       1.000us       1.000us             1  \n",
      "                          aten::logical_not         0.01%     517.000us         0.01%     517.000us     517.000us             1  \n",
      "             aten::_nested_tensor_from_mask         0.04%       2.554ms         0.27%      18.493ms      18.493ms             1  \n",
      "                                aten::zeros         0.01%     428.000us         0.01%     430.000us     430.000us             1  \n",
      "                                aten::empty         0.00%       2.000us         0.00%       2.000us       2.000us             1  \n",
      "                                aten::zero_         0.00%       0.000us         0.00%       0.000us       0.000us             1  \n",
      "                                  aten::cat         0.01%     482.000us         0.01%     954.000us     954.000us             1  \n",
      "                               aten::narrow         0.01%     455.000us         0.01%     470.000us     470.000us             1  \n",
      "                                aten::slice         0.00%      13.000us         0.00%      15.000us      15.000us             1  \n",
      "                           aten::as_strided         0.00%       2.000us         0.00%       2.000us       2.000us             1  \n",
      "                               aten::narrow         0.00%       1.000us         0.00%       2.000us       2.000us             1  \n",
      "                                aten::slice         0.00%       1.000us         0.00%       1.000us       1.000us             1  \n",
      "                           aten::as_strided         0.00%       0.000us         0.00%       0.000us       0.000us             1  \n",
      "                                   aten::to         0.00%       1.000us         0.00%     251.000us     251.000us             1  \n",
      "                             aten::_to_copy         0.00%       4.000us         0.00%     250.000us     250.000us             1  \n",
      "                        aten::empty_strided         0.00%       2.000us         0.00%       2.000us       2.000us             1  \n",
      "                                aten::copy_         0.00%     244.000us         0.00%     244.000us     244.000us             1  \n",
      "                               aten::argmin         0.01%     951.000us         0.01%     954.000us     954.000us             1  \n",
      "                           aten::as_strided         0.00%       3.000us         0.00%       3.000us       3.000us             1  \n",
      "                               aten::cumsum         0.00%       6.000us         0.00%      17.000us      17.000us             1  \n",
      "                                   aten::to         0.00%       2.000us         0.00%      11.000us      11.000us             1  \n",
      "                             aten::_to_copy         0.00%       3.000us         0.00%       9.000us       9.000us             1  \n",
      "                        aten::empty_strided         0.00%       1.000us         0.00%       1.000us       1.000us             1  \n",
      "                                aten::copy_         0.00%       5.000us         0.00%       5.000us       5.000us             1  \n",
      "                               aten::select         0.00%       4.000us         0.00%       4.000us       4.000us             1  \n",
      "                           aten::as_strided         0.00%       0.000us         0.00%       0.000us       0.000us             1  \n",
      "                                   aten::to         0.00%       0.000us         0.00%       0.000us       0.000us             1  \n",
      "                              aten::reshape         0.00%       6.000us         0.00%       7.000us       7.000us             1  \n",
      "                       aten::_reshape_alias         0.00%       1.000us         0.00%       1.000us       1.000us             1  \n",
      "                            aten::full_like         0.00%     216.000us         0.01%     559.000us     559.000us             1  \n",
      "                           aten::empty_like         0.00%       2.000us         0.00%       2.000us       2.000us             1  \n",
      "                        aten::empty_strided         0.00%       1.000us         0.00%       1.000us       1.000us             1  \n",
      "                                aten::fill_         0.00%     340.000us         0.00%     340.000us     340.000us             1  \n",
      "                                  aten::cat         0.00%     134.000us         0.00%     138.000us     138.000us             1  \n",
      "                               aten::narrow         0.00%       2.000us         0.00%       3.000us       3.000us             1  \n",
      "                                aten::slice         0.00%       1.000us         0.00%       1.000us       1.000us             1  \n",
      "                           aten::as_strided         0.00%       0.000us         0.00%       0.000us       0.000us             1  \n",
      "                               aten::narrow         0.00%       1.000us         0.00%       1.000us       1.000us             1  \n",
      "                                aten::slice         0.00%       0.000us         0.00%       0.000us       0.000us             1  \n",
      "                           aten::as_strided         0.00%       0.000us         0.00%       0.000us       0.000us             1  \n",
      "                                   aten::to         0.00%       1.000us         0.00%       1.000us       1.000us             1  \n",
      "                  aten::_nested_from_padded         0.04%       2.617ms         0.18%      12.624ms      12.624ms             1  \n",
      "                               aten::unbind         0.00%     122.000us         0.00%     123.000us     123.000us             1  \n",
      "                               aten::select         0.00%       1.000us         0.00%       1.000us       1.000us             1  \n",
      "                           aten::as_strided         0.00%       0.000us         0.00%       0.000us       0.000us             1  \n",
      "                               aten::select         0.00%       0.000us         0.00%       0.000us       0.000us             1  \n",
      "                           aten::as_strided         0.00%       0.000us         0.00%       0.000us       0.000us             1  \n",
      "                               aten::select         0.00%       0.000us         0.00%       0.000us       0.000us             1  \n",
      "                           aten::as_strided         0.00%       0.000us         0.00%       0.000us       0.000us             1  \n",
      "                             aten::new_full         0.01%     388.000us         0.01%     391.000us     391.000us             1  \n",
      "                            aten::new_empty         0.00%       1.000us         0.00%       2.000us       2.000us             1  \n",
      "                                aten::empty         0.00%       1.000us         0.00%       1.000us       1.000us             1  \n",
      "                                aten::fill_         0.00%       1.000us         0.00%       1.000us       1.000us             1  \n",
      "                      aten::constant_pad_nd         0.00%     228.000us         0.01%     371.000us     371.000us             1  \n",
      "                                aten::empty         0.00%       1.000us         0.00%       1.000us       1.000us             1  \n",
      "-------------------------------------------  ------------  ------------  ------------  ------------  ------------  ------------  \n",
      "Self CPU time total: 6.838s\n",
      "\n"
     ]
    }
   ],
   "source": [
    "with torch.autograd.profiler.profile(use_cuda=False) as prof:\n",
    "    with torch.no_grad():\n",
    "        for i in range(INTERATION):\n",
    "            output = model(model_input)\n",
    "print(prof)"
   ]
  }
 ],
 "metadata": {
  "kernelspec": {
   "display_name": "venv-metal",
   "language": "python",
   "name": "python3"
  },
  "language_info": {
   "codemirror_mode": {
    "name": "ipython",
    "version": 3
   },
   "file_extension": ".py",
   "mimetype": "text/x-python",
   "name": "python",
   "nbconvert_exporter": "python",
   "pygments_lexer": "ipython3",
   "version": "3.9.6"
  }
 },
 "nbformat": 4,
 "nbformat_minor": 2
}
